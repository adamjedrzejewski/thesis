{
 "cells": [
  {
   "cell_type": "code",
   "execution_count": null,
   "id": "516f0ca7",
   "metadata": {},
   "outputs": [],
   "source": [
    "JL Flanagan, Speech Analysis, Synthesis and Perception, Springer- Verlag, New York, 1972\n",
    "\n",
    "A Scale for the Measurement of the Psychological Magnitude Pitch\n",
    "\n",
    "https://librosa.org/doc/latest/index.html\n",
    "\n",
    "\t1\tTzanetakis, G., & Cook, P. (2002). Musical genre classification of audio signals. IEEE Transactions on speech and audio processing, 10(5), 293-302.\n",
    "\t2\tLee, Y. H., & Slaney, M. (2009). Acoustic feature design for audio classification. IEEE Transactions on Audio, Speech, and Language Processing, 17(4), 696-707.\n",
    "\t3\tMcFee, B., Raffel, C., Liang, D., Ellis, D. P., McVicar, M., Battenberg, E., & Nieto, O. (2018). librosa: Audio and music signal analysis in Python. Proceedings of the 14th python in science conference, 18, 2-7.\n",
    "\t4\tHumphrey, E. J., Bello, J. P., & LeCun, Y. (2012). Feature learning and deep architectures: New directions for music informatics. Journal of Intelligent Information Systems, 38(1), 3-21.\n",
    "\t5\tHan, J., & Chen, X. (2011). Music genre classification using LSF and MFCC features with hidden Markov models. International Journal of Digital Content Technology and its Applications, 5(9), 55-62.\n",
    "\t6\tSeyerlehner, K., Widmer, G., & Knees, P. (2010). Towards content-based music genre classification using timbral features. Proceedings of the International Conference on Music Information Retrieval (ISMIR), 25-29.\n",
    "\t7\t\t1\tDieleman, S., & Schrauwen, B. (2014). End-to-end learning for music audio. In Acoustics, Speech and Signal Processing (ICASSP), 2014 IEEE International Conference on (pp. 6964-6968). IEEE.\n",
    "\t8\tLee, J. H., Yang, M. H., & Hsu, W. (2018). Sample-level deep convolutional neural networks for music auto-tagging using raw waveforms. IEEE Transactions on Multimedia, 20(6), 1480-1493.\n",
    "\t9\tBoulanger-Lewandowski, N., Bengio, Y., & Vincent, P. (2012). Modeling temporal dependencies in high-dimensional sequences: Application to polyphonic music generation and transcription. Proceedings of the 29th International Conference on Machine Learning (ICML), 1159-1166.\n",
    "\t10\tHumphrey, E. J., Nieto, O., Bello, J. P., Cho, K., & LeCun, Y. (2013). Feature learning and deep architectures: New directions for music audio classification. In Proceedings of the 21st ACM International Conference on Multimedia (pp. 1013-1016). ACM.\n",
    "\t1\tSlaney, M. (1998). Auditory toolbox version 2. Technical report, Interval Research Corporation, 1998.\n",
    "\t2\tStevens, S. S., & Volkman, J. (1940). The relation of pitch to frequency: A revised scale. The American Journal of Psychology, 53(3), 329-353.\n",
    "\t3\tHuang, X., Acero, A., Hon, H. W., & Psenicak, T. M. (2001). Spoken language processing: A guide to theory, algorithm, and system development. Prentice Hall PTR.\n",
    "\t4\tChen, S., Gao, W., & Zhao, X. (2005). The Design of an Automatic Mel-Scale Auditory Analysis for Music Content Processing. Proceedings of the 2005 International Conference on Neural Networks and Brain, 1081-1084.\n",
    "\t5\tLogan, B. (2000). Mel Frequency Cepstral Coefficients for Music Modeling. Proceedings of the International Symposium on Music Information Retrieval (ISMIR), 199-204.\n",
    "\t6\tEllis, D. P. (2005). Auditory Toolbox Version 2. [Software]. Columbia University, New York. Available: http://labrosa.ee.columbia.edu/matlab/auditory\n",
    "\t7\tSlaney, M. (1993). An Efficient Implementation of the Patterson-Holdsworth Cochlear Filter Bank. Apple Technical Report #35.\n",
    "\t8\tSerra, X., & Smith, J. O. (1990). Spectral Modeling Synthesis: A Sound Analysis/Synthesis System Based on a Deterministic Plus Stochastic Decomposition. Computer Music Journal, 14(4), 12-24.\n",
    "\t9\tVerma, T., & Stanković, L. (2012). Music genre classification using cepstral features and learning vector quantization. IEEE Transactions on Audio, Speech, and Language Processing, 20(2), 520-531.\n",
    "\t10\t1\tPeeters, G. (2004). A large set of audio features for sound description (similarity and classification) in the CUIDADO project. International Conference on Music Information Retrieval (ISMIR), 17-23.\n",
    "\n",
    "    11\tFrith, S. (1996). Music and identity. In Questions of cultural identity (pp. 108-127). SAGE Publications.\n",
    "\t12\tPeterson, R. A., & Kern, R. M. (1996). Changing highbrow taste: From snob to omnivore. American Sociological Review, 61(5), 900-907.\n",
    "\t13\tNegus, K. (1999). Music genres and corporate cultures. Routledge.\n",
    "\t14\tMiddleton, R. (1990). Studying Popular Music. Open University Press.\n",
    "\t15\tHolt, F. (2007). Genre in Popular Music. University of Chicago Press.\n",
    "\t16\tLopes, P. (2002). The rise of a jazz art world. Cambridge University Press.\n",
    "\t17\tBrackett, D. (1995). Interpreting popular music. University of California Press.\n",
    "\t18\tDeNora, T. (2000). Music in everyday life. Cambridge University Press.\n",
    "\t19\tFrith, S., & Goodwin, A. (Eds.). (1990). On record: Rock, pop, and the written word. Routledge.\n",
    "\t20\tNegus, K. (2019). Popular music in theory: An introduction. Polity.\n",
    "\n",
    "\t1\tMitchell, T. (1997). Machine Learning. McGraw Hill.\n",
    "\t2\tAlpaydin, E. (2014). Introduction to Machine Learning. MIT Press.\n",
    "\t3\tBishop, C. M. (2006). Pattern Recognition and Machine Learning. Springer.\n",
    "\t4\tHastie, T., Tibshirani, R., & Friedman, J. (2009). The Elements of Statistical Learning: Data Mining, Inference, and Prediction. Springer.\n",
    "\t5\tMarsland, S. (2015). Machine Learning: An Algorithmic Perspective. CRC Press.\n",
    "\t6\tGéron, A. (2019). Hands-On Machine Learning with Scikit-Learn, Keras, and TensorFlow: Concepts, Tools, and Techniques to Build Intelligent Systems. O'Reilly Media.\n",
    "\t7\tShalev-Shwartz, S., & Ben-David, S. (2014). Understanding Machine Learning: From Theory to Algorithms. Cambridge University Press.\n",
    "\t8\tMurphy, K. P. (2012). Machine Learning: A Probabilistic Perspective. MIT Press.\n",
    "\t9\tJames, G., Witten, D., Hastie, T., & Tibshirani, R. (2013). An Introduction to Statistical Learning: With Applications in R. Springer.\n",
    "\t10\tRaschka, S., & Mirjalili, V. (2019). Python Machine Learning: Machine Learning and Deep Learning with Python, scikit-learn, and TensorFlow 2. Packt Publishing.\n"
   ]
  }
 ],
 "metadata": {
  "kernelspec": {
   "display_name": "Python 3 (ipykernel)",
   "language": "python",
   "name": "python3"
  },
  "language_info": {
   "codemirror_mode": {
    "name": "ipython",
    "version": 3
   },
   "file_extension": ".py",
   "mimetype": "text/x-python",
   "name": "python",
   "nbconvert_exporter": "python",
   "pygments_lexer": "ipython3",
   "version": "3.11.2"
  }
 },
 "nbformat": 4,
 "nbformat_minor": 5
}
